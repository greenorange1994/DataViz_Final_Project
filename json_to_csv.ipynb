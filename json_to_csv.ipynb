{
 "cells": [
  {
   "cell_type": "code",
   "execution_count": 1,
   "metadata": {
    "collapsed": true
   },
   "outputs": [],
   "source": [
    "import json\n",
    "import numpy as np\n",
    "import pandas as pd"
   ]
  },
  {
   "cell_type": "code",
   "execution_count": 137,
   "metadata": {
    "collapsed": false
   },
   "outputs": [],
   "source": [
    "#read data\n",
    "business = []\n",
    "for line in open('yelp_academic_dataset_business.txt', 'r', encoding='utf8'):\n",
    "    business.append(json.loads(line))"
   ]
  },
  {
   "cell_type": "code",
   "execution_count": 138,
   "metadata": {
    "collapsed": false
   },
   "outputs": [],
   "source": [
    "#get Pittsburgh restaurants\n",
    "pit_restaurants = []\n",
    "for dic in business:\n",
    "    try:\n",
    "        if dic['city'] == 'Pittsburgh' and 'Restaurants' in dic['categories']:\n",
    "            pit_restaurants.append(dic)\n",
    "    except:\n",
    "        continue"
   ]
  },
  {
   "cell_type": "code",
   "execution_count": 139,
   "metadata": {
    "collapsed": false
   },
   "outputs": [],
   "source": [
    "#get price ratings\n",
    "for dic in pit_restaurants:\n",
    "    try:\n",
    "        for string in dic['attributes']:\n",
    "            if string.find(\"RestaurantsPriceRange2\") > -1:\n",
    "                dic['price'] = string.split(\":\")[1]\n",
    "    except:\n",
    "        dic['price'] = None"
   ]
  },
  {
   "cell_type": "code",
   "execution_count": 140,
   "metadata": {
    "collapsed": true
   },
   "outputs": [],
   "source": [
    "#get cuisine classification\n",
    "for dic in pit_restaurants:\n",
    "    try:\n",
    "        string = dic['categories']\n",
    "        if 'Chinese' in string or 'Japanese' in string or 'Thai' in string or 'Asian Fusion' in string or 'Indian' in string or 'Vietnamese' in string or 'Korean' in string or 'Sushi Bars' in string:\n",
    "            dic['cuisine'] = 'Asian Fusion'\n",
    "        elif 'Italian' in string or 'Pizza' in string or 'German' in string or 'Greek' in string or 'Spanish' in string or 'Cafes' in string or 'French' in string or 'British' in string:\n",
    "            dic['cuisine'] = 'European'\n",
    "        elif 'American (New)' in string or 'American (Traditional)' in string or 'Burgers' in string or 'Hot Dogs' in string or 'Fast Food' in string or 'Fish & Chips'in string:\n",
    "            dic['cuisine'] = 'American'\n",
    "        elif 'Middle Eastern' in string or 'Mediterranean' in string:\n",
    "            dic['cuisine'] = 'Middle Eastern'\n",
    "        elif 'Latin American' in string or 'Mexican' in string:\n",
    "            dic['cuisine'] = 'Latin American'\n",
    "        else:\n",
    "            dic['cuisine'] = 'Others'\n",
    "    except:\n",
    "        continue"
   ]
  },
  {
   "cell_type": "code",
   "execution_count": 141,
   "metadata": {
    "collapsed": false
   },
   "outputs": [],
   "source": [
    "#get business parking classification\n",
    "for dic in pit_restaurants:\n",
    "    try:\n",
    "        for string in dic['attributes']:\n",
    "            if string.find(\"BusinessParking\") > -1:\n",
    "                n = string.find(\":\")\n",
    "                lst = string[(n+3):-1].split(',')\n",
    "                for parking in lst:\n",
    "                    if parking.find(\"True\") > -1:\n",
    "                        dic['parking'] = parking.split(':')[0][2:-1]\n",
    "    except:\n",
    "        dic['parking'] = np.NaN"
   ]
  },
  {
   "cell_type": "code",
   "execution_count": 152,
   "metadata": {
    "collapsed": false
   },
   "outputs": [],
   "source": [
    "#get noise level classification\n",
    "for dic in pit_restaurants:\n",
    "    try:\n",
    "        for string in dic['attributes']:\n",
    "            if string.find(\"NoiseLevel\") > -1:\n",
    "                dic['noise'] = string[12:]\n",
    "    except:\n",
    "        dic['noise'] = np.NaN"
   ]
  },
  {
   "cell_type": "code",
   "execution_count": 155,
   "metadata": {
    "collapsed": false
   },
   "outputs": [],
   "source": [
    "pit_df = pd.DataFrame(pit_restaurants)\n",
    "pit_df.to_csv(\"pit_restaurants.csv\")"
   ]
  },
  {
   "cell_type": "code",
   "execution_count": 100,
   "metadata": {
    "collapsed": false
   },
   "outputs": [
    {
     "data": {
      "text/plain": [
       "'street'"
      ]
     },
     "execution_count": 100,
     "metadata": {},
     "output_type": "execute_result"
    }
   ],
   "source": [
    "pit_restaurants[8]['attributes'][4][18:-1].split(',')[1].split(':')[0][2:-1]"
   ]
  }
 ],
 "metadata": {
  "anaconda-cloud": {},
  "kernelspec": {
   "display_name": "Python [default]",
   "language": "python",
   "name": "python3"
  },
  "language_info": {
   "codemirror_mode": {
    "name": "ipython",
    "version": 3
   },
   "file_extension": ".py",
   "mimetype": "text/x-python",
   "name": "python",
   "nbconvert_exporter": "python",
   "pygments_lexer": "ipython3",
   "version": "3.5.2"
  }
 },
 "nbformat": 4,
 "nbformat_minor": 1
}
